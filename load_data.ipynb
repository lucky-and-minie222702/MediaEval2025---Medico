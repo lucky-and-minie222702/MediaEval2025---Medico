{
 "cells": [
  {
   "cell_type": "code",
   "execution_count": null,
   "id": "3c575eaf",
   "metadata": {},
   "outputs": [],
   "source": [
    "import numpy as np\n",
    "import matplotlib.pyplot as plt\n",
    "import pandas as pd"
   ]
  },
  {
   "cell_type": "code",
   "execution_count": null,
   "id": "65231b84",
   "metadata": {},
   "outputs": [],
   "source": [
    "from datasets import load_dataset\n",
    "ds = load_dataset(\"SimulaMet-HOST/Kvasir-VQA\")"
   ]
  },
  {
   "cell_type": "code",
   "execution_count": null,
   "id": "f10292bc",
   "metadata": {},
   "outputs": [],
   "source": [
    "d_path =\"./data\" #existing folder where you want to save images and metadata.csv\n",
    "\n",
    "df = ds['raw'].select_columns(['source', 'question', 'answer', 'img_id']).to_pandas()\n",
    "df.to_csv(f\"{d_path}/metadata.csv\", index=False)\n",
    "\n",
    "import os\n",
    "os.makedirs(f\"{d_path}/images\", exist_ok=True)\n",
    "\n",
    "for i, row in df.groupby('img_id').nth(0).iterrows(): # for images\n",
    "  image = ds['raw'][i]['image'].save(f\"{d_path}/images/{row['img_id']}.jpg\")\n"
   ]
  }
 ],
 "metadata": {
  "kernelspec": {
   "display_name": ".venv",
   "language": "python",
   "name": "python3"
  },
  "language_info": {
   "codemirror_mode": {
    "name": "ipython",
    "version": 3
   },
   "file_extension": ".py",
   "mimetype": "text/x-python",
   "name": "python",
   "nbconvert_exporter": "python",
   "pygments_lexer": "ipython3",
   "version": "3.12.11"
  }
 },
 "nbformat": 4,
 "nbformat_minor": 5
}
