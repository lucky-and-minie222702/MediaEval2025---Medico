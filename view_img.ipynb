{
 "cells": [
  {
   "cell_type": "code",
   "execution_count": 1,
   "metadata": {},
   "outputs": [],
   "source": [
    "import numpy as np\n",
    "import pandas as pd\n",
    "import matplotlib.pyplot as plt\n",
    "import seaborn as sns\n",
    "import tqdm\n",
    "import cv2\n",
    "import os\n",
    "from PIL import Image, ImageOps"
   ]
  },
  {
   "cell_type": "code",
   "execution_count": null,
   "metadata": {},
   "outputs": [],
   "source": [
    "def change_size(image, target_size, pad_value=0):\n",
    "    \n",
    "    target_h, target_w = target_size\n",
    "    img_h, img_w = image.shape[:2]\n",
    "    image = cv2.resize(image, (target_w * img_w // img_h, target_h))\n",
    "\n",
    "    # crop\n",
    "    start_x = max(0, (img_w - target_w) // 2)\n",
    "    start_y = max(0, (img_h - target_h) // 2)\n",
    "    end_x = start_x + min(target_w, img_w)\n",
    "    end_y = start_y + min(target_h, img_h)\n",
    "\n",
    "    cropped = image[start_y:end_y, start_x:end_x]\n",
    "\n",
    "    # pad\n",
    "    pad_h = max(0, target_h - cropped.shape[0])\n",
    "    pad_w = max(0, target_w - cropped.shape[1])\n",
    "    \n",
    "    pad_top = pad_h // 2\n",
    "    pad_bottom = pad_h - pad_top\n",
    "    pad_left = pad_w // 2\n",
    "    pad_right = pad_w - pad_left\n",
    "\n",
    "    if image.ndim == 3:\n",
    "        padding = ((pad_top, pad_bottom), (pad_left, pad_right), (0, 0))\n",
    "    else:\n",
    "        padding = ((pad_top, pad_bottom), (pad_left, pad_right))\n",
    "\n",
    "    padded = np.pad(cropped, padding, mode='constant', constant_values=pad_value)\n",
    "\n",
    "    return padded"
   ]
  },
  {
   "cell_type": "code",
   "execution_count": null,
   "metadata": {},
   "outputs": [],
   "source": []
  }
 ],
 "metadata": {
  "kernelspec": {
   "display_name": ".venv",
   "language": "python",
   "name": "python3"
  },
  "language_info": {
   "codemirror_mode": {
    "name": "ipython",
    "version": 3
   },
   "file_extension": ".py",
   "mimetype": "text/x-python",
   "name": "python",
   "nbconvert_exporter": "python",
   "pygments_lexer": "ipython3",
   "version": "3.12.11"
  }
 },
 "nbformat": 4,
 "nbformat_minor": 2
}
